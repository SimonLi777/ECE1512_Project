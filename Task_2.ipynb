{
  "cells": [
    {
      "cell_type": "code",
      "execution_count": 21,
      "metadata": {
        "id": "UFV16R-42_nE"
      },
      "outputs": [],
      "source": [
        "import tensorflow.compat.v2 as tf\n",
        "import tensorflow_datasets as tfds\n",
        "from typing import Union\n",
        "from sklearn.metrics import confusion_matrix\n",
        "import time\n",
        "import os\n",
        "import sys\n",
        "import numpy as np\n",
        "import random\n",
        "import matplotlib.pyplot as plt\n",
        "import cv2\n",
        "import pandas as pd\n",
        "import numpy as np\n",
        "\n",
        "module_path = os.path.abspath(os.path.join('..'))\n",
        "if module_path not in sys.path:\n",
        "    sys.path.append(module_path)\n",
        "\n",
        "plt.style.use('_mpl-gallery')\n",
        "\n",
        "\n",
        "tf.enable_v2_behavior()\n",
        "\n",
        "\n",
        "BATCH_SIZE = 256\n",
        "NUM_EPOCHS = 12\n",
        "IMAGE_SHAPE = (224,224,3)\n",
        "ALPHA = 0.5\n",
        "DISTILLATION_TEMPERATURE = 4\n"
      ]
    },
    {
      "cell_type": "markdown",
      "source": [
        "# Model creation"
      ],
      "metadata": {
        "id": "LaSGKfqSO_e3"
      }
    },
    {
      "cell_type": "code",
      "execution_count": 3,
      "metadata": {
        "colab": {
          "base_uri": "https://localhost:8080/",
          "height": 0
        },
        "id": "rT9_Uj_-3EY4",
        "outputId": "bfa96f5c-d9cd-4be1-8ec4-5dfaf2e1e1ad"
      },
      "outputs": [
        {
          "output_type": "stream",
          "name": "stdout",
          "text": [
            "Downloading data from https://storage.googleapis.com/tensorflow/keras-applications/resnet/resnet50v2_weights_tf_dim_ordering_tf_kernels_notop.h5\n",
            "94668760/94668760 [==============================] - 0s 0us/step\n"
          ]
        }
      ],
      "source": [
        "teacher_model = tf.keras.applications.ResNet50V2(\n",
        "  include_top=False,\n",
        "  weights='imagenet',\n",
        "  classes=2,\n",
        "  input_shape=IMAGE_SHAPE\n",
        "  )\n",
        "teacher_model.trainable=False\n",
        "\n",
        "###################\n",
        "#Joyce-ZhouY\n",
        "#https://github.com/Joyce-ZhouY/ECE1512-ProjectA/blob/main/Task2.ipynb\n",
        "###################\n",
        "inputs = tf.keras.Input(shape=(224, 224, 3))\n",
        "x = teacher_model(inputs, training=False)\n",
        "x = tf.keras.layers.GlobalAveragePooling2D(dtype='float32')(x)\n",
        "x = tf.keras.layers.Dropout(0.2)(x)\n",
        "outputs = tf.keras.layers.Dense(2)(x)\n",
        "teacher_model = tf.keras.Model(inputs, outputs)\n",
        "optimizer = tf.keras.optimizers.Adam(learning_rate=1e-4)\n",
        "initial_epoch = 10\n",
        "teacher_model.compile(optimizer=optimizer)\n"
      ]
    },
    {
      "cell_type": "code",
      "execution_count": 5,
      "metadata": {
        "colab": {
          "base_uri": "https://localhost:8080/",
          "height": 0
        },
        "id": "s02aHgZRZwKD",
        "outputId": "2c901848-b596-46f0-d5a6-dd3f0807d0fd"
      },
      "outputs": [
        {
          "output_type": "stream",
          "name": "stdout",
          "text": [
            "Downloading data from https://storage.googleapis.com/tensorflow/keras-applications/mobilenet_v2/mobilenet_v2_weights_tf_dim_ordering_tf_kernels_1.0_224_no_top.h5\n",
            "9406464/9406464 [==============================] - 0s 0us/step\n"
          ]
        }
      ],
      "source": [
        "student_model = tf.keras.applications.MobileNetV2(\n",
        "    input_shape=IMAGE_SHAPE,\n",
        "    include_top=False,\n",
        "    weights=\"imagenet\",\n",
        "    classes=2,\n",
        ")\n",
        "student_model.trainable=False\n",
        "\n",
        "###################\n",
        "#Joyce-ZhouY\n",
        "#https://github.com/Joyce-ZhouY/ECE1512-ProjectA/blob/main/Task2.ipynb\n",
        "###################\n",
        "inputs = tf.keras.Input(shape=(224, 224, 3))\n",
        "x = student_model(inputs, training=False)\n",
        "x = tf.keras.layers.GlobalAveragePooling2D(dtype='float32')(x)\n",
        "x = tf.keras.layers.Dropout(0.2)(x)\n",
        "outputs = tf.keras.layers.Dense(2)(x)\n",
        "student_model = tf.keras.Model(inputs, outputs)\n",
        "\n",
        "\n",
        "optimizer = tf.keras.optimizers.Adam(learning_rate=1e-4)\n",
        "initial_epoch = 10\n",
        "student_model.compile(optimizer=optimizer\n",
        ")"
      ]
    },
    {
      "cell_type": "code",
      "execution_count": 6,
      "metadata": {
        "id": "uYXOKSrrov25"
      },
      "outputs": [],
      "source": [
        "###################\n",
        "#Joyce-ZhouY\n",
        "#https://github.com/Joyce-ZhouY/ECE1512-ProjectA/blob/main/Task2.ipynb\n",
        "###################\n",
        "path_train = '/content/train'\n",
        "tf.io.gfile.mkdir(\n",
        "    path_train\n",
        ")\n",
        "\n",
        "path_test = '/content/test'\n",
        "tf.io.gfile.mkdir(\n",
        "    path_test\n",
        ")\n",
        "\n",
        "path_train_HP = '/content/train/HP'\n",
        "tf.io.gfile.mkdir(\n",
        "    path_train_HP\n",
        ")\n",
        "\n",
        "path_train_SSA = '/content/train/SSA'\n",
        "tf.io.gfile.mkdir(\n",
        "    path_train_SSA\n",
        ")\n",
        "\n",
        "path_test_HP = '/content/test/HP'\n",
        "tf.io.gfile.mkdir(\n",
        "    path_test_HP\n",
        ")\n",
        "\n",
        "path_test_SSA = '/content/test/SSA'\n",
        "tf.io.gfile.mkdir(\n",
        "    path_test_SSA\n",
        ")\n",
        "\n",
        "path_train_aug = '/content/train_aug'\n",
        "tf.io.gfile.mkdir(\n",
        "    path_train_aug\n",
        ")\n",
        "\n",
        "path_train_HP_aug = '/content/train_aug/HP'\n",
        "tf.io.gfile.mkdir(\n",
        "    path_train_HP_aug\n",
        ")\n",
        "\n",
        "path_train_SSA_aug = '/content/train_aug/SSA'\n",
        "tf.io.gfile.mkdir(\n",
        "    path_train_SSA_aug\n",
        ")\n",
        "\n",
        "path = '/content/annotations.csv'\n",
        "df = pd.read_csv(path)\n",
        "csv = dict(df)\n",
        "image_num = len(csv.get('Image Name'))\n",
        "\n",
        "\n",
        "for i in range(image_num):\n",
        "  if csv.get('Partition')[i] == \"train\":\n",
        "    if csv.get('Majority Vote Label')[i] == \"HP\":\n",
        "      src = '/content/drive/MyDrive/images/' + csv.get('Image Name')[i]\n",
        "      #/content/drive/MyDrive/images\n",
        "      dst = '/content/train/HP/' + csv.get('Image Name')[i]\n",
        "      tf.io.gfile.copy(src, dst, overwrite=True)\n",
        "    else:\n",
        "      src = '/content/drive/MyDrive/images/' + csv.get('Image Name')[i]\n",
        "      dst = '/content/train/SSA/' + csv.get('Image Name')[i]\n",
        "      tf.io.gfile.copy(src, dst, overwrite=True)\n",
        "  else:\n",
        "    if csv.get('Majority Vote Label')[i] == \"HP\":\n",
        "      src = '/content/drive/MyDrive/images/' + csv.get('Image Name')[i]\n",
        "      dst = '/content/test/HP/' + csv.get('Image Name')[i]\n",
        "      tf.io.gfile.copy(src, dst, overwrite=True)\n",
        "    else:\n",
        "      src = '/content/drive/MyDrive/images/' + csv.get('Image Name')[i]\n",
        "      dst = '/content/test/SSA/' + csv.get('Image Name')[i]\n",
        "      tf.io.gfile.copy(src, dst, overwrite=True)"
      ]
    },
    {
      "cell_type": "code",
      "execution_count": 7,
      "metadata": {
        "id": "Lxfa0O9UoIfM"
      },
      "outputs": [],
      "source": [
        "import matplotlib. image as image\n",
        "from matplotlib import pyplot as plt\n",
        "from random import random\n",
        "\n",
        "path = '/content/annotations.csv'\n",
        "df = pd.read_csv(path)\n",
        "csv = dict(df)\n",
        "image_num = len(csv.get('Image Name'))\n",
        "\n",
        "###################\n",
        "#Joyce-ZhouY\n",
        "#https://github.com/Joyce-ZhouY/ECE1512-ProjectA/blob/main/Task2.ipynb\n",
        "###################\n",
        "for i in range(image_num):\n",
        "    if csv.get('Majority Vote Label')[i] == \"HP\":\n",
        "      src = '/content/drive/MyDrive/images/' + csv.get('Image Name')[i]\n",
        "      img=image.imread(src)\n",
        "      img_aug = tf.image.rot90(tf.image.random_flip_up_down(img),k=round(random()*3))+tf.random.normal(shape=[224,224,3], mean=0.0, stddev=0.1,dtype=tf.float32)\n",
        "      tf.keras.utils.save_img('/content/train_aug/HP/'+ csv.get('Image Name')[i], img_aug, data_format=None, file_format=None, scale=True)\n",
        "    else:\n",
        "      src = '/content/drive/MyDrive/images/' + csv.get('Image Name')[i]\n",
        "      img=image.imread(src)\n",
        "      img_aug = tf.image.rot90(tf.image.random_flip_up_down(img),k=round(random()*3))+tf.random.normal(shape=[224,224,3], mean=0.0, stddev=0.1,dtype=tf.float32)\n",
        "      tf.keras.utils.save_img('/content/train_aug/SSA/'+ csv.get('Image Name')[i], img_aug, data_format=None, file_format=None, scale=True)\n",
        "      #break"
      ]
    },
    {
      "cell_type": "code",
      "execution_count": 8,
      "metadata": {
        "colab": {
          "base_uri": "https://localhost:8080/",
          "height": 0
        },
        "id": "Z6Hyj45BqQcw",
        "outputId": "b7733c6c-04b5-4bd8-c6e4-a6852971f29f"
      },
      "outputs": [
        {
          "output_type": "stream",
          "name": "stdout",
          "text": [
            "Found 3152 files belonging to 2 classes.\n",
            "Found 977 files belonging to 2 classes.\n"
          ]
        }
      ],
      "source": [
        "###################\n",
        "#Joyce-ZhouY\n",
        "#https://github.com/Joyce-ZhouY/ECE1512-ProjectA/blob/main/Task2.ipynb\n",
        "###################\n",
        "IMG_SIZE = (224,224)\n",
        "train_dir = '/content/train_aug'\n",
        "BATCH_SIZE=32\n",
        "train_dataset = tf.keras.utils.image_dataset_from_directory(train_dir,\n",
        "                              shuffle=True,\n",
        "                              batch_size=BATCH_SIZE,\n",
        "                              image_size=IMG_SIZE)\n",
        "\n",
        "test_dir = '/content/test'\n",
        "test_dataset = tf.keras.utils.image_dataset_from_directory(test_dir,\n",
        "                              shuffle=True,\n",
        "                              batch_size=BATCH_SIZE,\n",
        "                              image_size=IMG_SIZE)"
      ]
    },
    {
      "cell_type": "code",
      "execution_count": 9,
      "metadata": {
        "id": "LVftmLV0qSZQ"
      },
      "outputs": [],
      "source": [
        "\n",
        "train_dataset = train_dataset.map(lambda x, y: (tf.cast(x, tf.float32), tf.one_hot(y, 2)))\n",
        "test_dataset = test_dataset.map(lambda x, y: (tf.cast(x, tf.float32), tf.one_hot(y, 2)))"
      ]
    },
    {
      "cell_type": "code",
      "execution_count": 29,
      "metadata": {
        "id": "AdFNMI67yvPp"
      },
      "outputs": [],
      "source": [
        "def f1(tp,tn,fp):\n",
        "    precision=tp/(tp+tn)\n",
        "    recall=tp/(tp+fp)\n",
        "    return 2*((precision*recall)/(precision+recall))\n",
        "\n",
        "def compute_teacher_loss(images, labels):\n",
        "  subclass_logits = teacher_model(images, training=True)\n",
        "  cross_entropy_loss_value = tf.nn.softmax_cross_entropy_with_logits(labels=labels, logits=subclass_logits)\n",
        "  return cross_entropy_loss_value\n",
        "\n",
        "def distillation_loss(teacher_logits: tf.Tensor, student_logits: tf.Tensor,\n",
        "                      temperature: Union[float, tf.Tensor]):\n",
        "  soft_targets = tf.nn.softmax(teacher_logits / temperature)\n",
        "\n",
        "  return tf.reduce_mean(\n",
        "      tf.nn.softmax_cross_entropy_with_logits(\n",
        "          soft_targets, student_logits / temperature)) * temperature ** 2\n",
        "\n",
        "\n",
        "def compute_student_loss(images, labels):\n",
        "  student_subclass_logits = student_model(images, training=True)\n",
        "  teacher_subclass_logits = teacher_model(images, training=False)\n",
        "  distillation_loss_value = distillation_loss(teacher_subclass_logits,student_subclass_logits,DISTILLATION_TEMPERATURE)\n",
        "  cross_entropy_loss_value = tf.nn.softmax_cross_entropy_with_logits(labels, student_subclass_logits)\n",
        "  loss= ALPHA*distillation_loss_value + (1-ALPHA)* cross_entropy_loss_value\n",
        "  return loss\n",
        "\n",
        "def compute_plain_cross_entropy_loss(images, labels):\n",
        "  student_subclass_logits = student_model_no_distillation(images, training=True)\n",
        "  cross_entropy_loss = tf.reduce_mean(tf.nn.softmax_cross_entropy_with_logits(labels=labels, logits=student_subclass_logits))\n",
        "\n",
        "  return cross_entropy_loss\n",
        "\n",
        "def compute_confusion_matrix(model, images, labels):\n",
        "  y_prediction = model(images, training=False)\n",
        "  y_prediction = np.argmax (y_prediction, axis = 1)\n",
        "  y_true=np.argmax(labels, axis=1)\n",
        "\n",
        "  result = confusion_matrix(y_true, y_prediction)\n",
        "  return result\n",
        "\n",
        "\n",
        "def compute_num_correct(model, images, labels):\n",
        "  class_logits = model(images, training=False)\n",
        "  value= tf.reduce_sum(\n",
        "      tf.cast(tf.math.equal(tf.argmax(class_logits, -1), tf.argmax(labels, -1)),\n",
        "              tf.float32)), tf.argmax(class_logits, -1), tf.argmax(labels, -1)\n",
        "  return value\n",
        "\n",
        "###################\n",
        "#Joyce-ZhouY\n",
        "#https://github.com/Joyce-ZhouY/ECE1512-ProjectA/blob/main/Task2.ipynb\n",
        "###################\n",
        "def train_and_evaluate(model, compute_loss_fn):\n",
        "  time_matrix=[]\n",
        "  matrix_1 = []\n",
        "  for epoch in range(1, NUM_EPOCHS + 1):\n",
        "    start_time = time.time()\n",
        "    print('Epoch {}: '.format(epoch), end='')\n",
        "    for images, labels in train_dataset:\n",
        "      with tf.GradientTape() as tape:\n",
        "         # your code start from here for step 4\n",
        "        loss_value = compute_loss_fn(images,labels)\n",
        "\n",
        "      grads = tape.gradient(loss_value, model.trainable_variables)\n",
        "      optimizer.apply_gradients(zip(grads, model.trainable_variables))\n",
        "\n",
        "    con_matrix=[[0,0],[0,0]]\n",
        "    for images, labels in test_dataset:\n",
        "      acc = compute_confusion_matrix(model, images, labels)\n",
        "      con_matrix[0][0] += acc[0][0]\n",
        "      con_matrix[0][1] += acc[0][1]\n",
        "      con_matrix[1][0] += acc[1][0]\n",
        "      con_matrix[1][1] += acc[1][1]\n",
        "      #print(con_matrix)\n",
        "\n",
        "    epoch_time = time.time() - start_time\n",
        "    time_matrix.append(epoch_time)\n",
        "    #print(\"Total time per epoch: {0:.2f} seconds\".format(epoch_time))\n",
        "\n",
        "    con_matrix = np.asarray(con_matrix)\n",
        "    f1_score = f1(con_matrix[0][0], con_matrix[0][1], con_matrix[1,0])\n",
        "    matrix_1.append(f1_score)\n",
        "\n",
        "  total_time = np.sum(time_matrix)\n",
        "\n",
        "  return f1_score"
      ]
    },
    {
      "cell_type": "markdown",
      "source": [
        "# Training models"
      ],
      "metadata": {
        "id": "piYCMOZLSZzB"
      }
    },
    {
      "cell_type": "code",
      "execution_count": 22,
      "metadata": {
        "colab": {
          "base_uri": "https://localhost:8080/",
          "height": 0
        },
        "id": "v0UZuyMarEKG",
        "outputId": "be816b2c-d2f1-465d-d84a-686ca02bff9f"
      },
      "outputs": [
        {
          "output_type": "stream",
          "name": "stdout",
          "text": [
            "Epoch 1: Epoch 2: Epoch 3: Epoch 4: Epoch 5: Epoch 6: Epoch 7: Epoch 8: Epoch 9: Epoch 10: Epoch 11: Epoch 12: "
          ]
        }
      ],
      "source": [
        "f1_score = train_and_evaluate(teacher_model, compute_teacher_loss)"
      ]
    },
    {
      "cell_type": "code",
      "execution_count": 23,
      "metadata": {
        "id": "wS9Qw0euV-fQ",
        "colab": {
          "base_uri": "https://localhost:8080/",
          "height": 0
        },
        "outputId": "3f1ff7d3-0626-4d00-9e85-4e13088c3902"
      },
      "outputs": [
        {
          "output_type": "execute_result",
          "data": {
            "text/plain": [
              "0.768642447418738"
            ]
          },
          "metadata": {},
          "execution_count": 23
        }
      ],
      "source": [
        "f1_score"
      ]
    },
    {
      "cell_type": "code",
      "source": [
        "f1_score = train_and_evaluate(student_model, compute_student_loss)"
      ],
      "metadata": {
        "colab": {
          "base_uri": "https://localhost:8080/",
          "height": 0
        },
        "id": "rTAsalLsc25J",
        "outputId": "bd07d3b1-279e-496f-8a09-95db0b2bc1db"
      },
      "execution_count": 25,
      "outputs": [
        {
          "output_type": "stream",
          "name": "stdout",
          "text": [
            "Epoch 1: Epoch 2: Epoch 3: Epoch 4: Epoch 5: Epoch 6: Epoch 7: Epoch 8: Epoch 9: Epoch 10: Epoch 11: Epoch 12: "
          ]
        }
      ]
    },
    {
      "cell_type": "code",
      "source": [
        "f1_score"
      ],
      "metadata": {
        "colab": {
          "base_uri": "https://localhost:8080/",
          "height": 0
        },
        "id": "Z78N52d7foc8",
        "outputId": "aae0e99f-623e-4314-d7b3-7779e3893de0"
      },
      "execution_count": 26,
      "outputs": [
        {
          "output_type": "execute_result",
          "data": {
            "text/plain": [
              "0.7741530740276036"
            ]
          },
          "metadata": {},
          "execution_count": 26
        }
      ]
    },
    {
      "cell_type": "markdown",
      "source": [
        "# Train student from scratch"
      ],
      "metadata": {
        "id": "PW-ACqVFimkI"
      }
    },
    {
      "cell_type": "code",
      "source": [
        "student_model_no_distillation = tf.keras.applications.MobileNetV2(\n",
        "    input_shape=IMAGE_SHAPE,\n",
        "    include_top=False,\n",
        "    weights=\"imagenet\",\n",
        "    classes=2,\n",
        ")\n",
        "student_model_no_distillation.trainable=False\n",
        "\n",
        "inputs = tf.keras.Input(shape=(224, 224, 3))\n",
        "x = student_model_no_distillation(inputs, training=False)\n",
        "x = tf.keras.layers.GlobalAveragePooling2D(dtype='float32')(x)\n",
        "x = tf.keras.layers.Dropout(0.2)(x)\n",
        "outputs = tf.keras.layers.Dense(2)(x)\n",
        "student_model_no_distillation = tf.keras.Model(inputs, outputs)\n",
        "\n",
        "\n",
        "optimizer = tf.keras.optimizers.Adam(learning_rate=1e-4)\n",
        "initial_epoch = 10\n",
        "student_model_no_distillation.compile(optimizer=optimizer\n",
        ")"
      ],
      "metadata": {
        "id": "JKc9EqojeOol"
      },
      "execution_count": 27,
      "outputs": []
    },
    {
      "cell_type": "code",
      "source": [
        "f1_before_kd = train_and_evaluate(student_model_no_distillation, compute_plain_cross_entropy_loss)\n",
        "f1_before_kd"
      ],
      "metadata": {
        "colab": {
          "base_uri": "https://localhost:8080/",
          "height": 0
        },
        "id": "CqRARW6PeiGv",
        "outputId": "8a66dbe1-dcd0-420b-e3c7-63ba7ae844b5"
      },
      "execution_count": 30,
      "outputs": [
        {
          "output_type": "stream",
          "name": "stdout",
          "text": [
            "Epoch 1: Epoch 2: Epoch 3: Epoch 4: Epoch 5: Epoch 6: Epoch 7: Epoch 8: Epoch 9: Epoch 10: Epoch 11: Epoch 12: "
          ]
        },
        {
          "output_type": "execute_result",
          "data": {
            "text/plain": [
              "0.7726130653266331"
            ]
          },
          "metadata": {},
          "execution_count": 30
        }
      ]
    },
    {
      "cell_type": "code",
      "source": [
        "pip install py-markdown-table"
      ],
      "metadata": {
        "id": "sFj-PAXriB7o"
      },
      "execution_count": null,
      "outputs": []
    },
    {
      "cell_type": "code",
      "source": [
        "from py_markdown_table.markdown_table import markdown_table\n",
        "data = [\n",
        "    {\n",
        "        \"Temperature = 4, Alpha = 0.5 \": \"F1 Score\",\n",
        "        \"Student Model before KD\": '{:.4f}'.format(f1_before_kd),\n",
        "        \"Student Model after KD\": '{:.4f}'.format(f1_score),\n",
        "    },\n",
        "]\n",
        "table = markdown_table(data).get_markdown()\n",
        "print(table)"
      ],
      "metadata": {
        "colab": {
          "base_uri": "https://localhost:8080/",
          "height": 0
        },
        "id": "onoPDa93h4wf",
        "outputId": "ea4858ab-26b2-401c-caee-40a7c01c0acc"
      },
      "execution_count": 34,
      "outputs": [
        {
          "output_type": "stream",
          "name": "stdout",
          "text": [
            "```\n",
            "+----------------------------------------------------------------------------+\n",
            "|Temperature = 4, Alpha = 0.5 |Student Model before KD|Student Model after KD|\n",
            "+-----------------------------+-----------------------+----------------------+\n",
            "|           F1 Score          |         0.7726        |        0.7742        |\n",
            "+----------------------------------------------------------------------------+```\n"
          ]
        }
      ]
    },
    {
      "cell_type": "markdown",
      "source": [
        "# Test accuracy vs. tempreture curve"
      ],
      "metadata": {
        "id": "hRauYhkli2H8"
      }
    },
    {
      "cell_type": "code",
      "source": [
        "student_model = tf.keras.applications.MobileNetV2(\n",
        "    input_shape=IMAGE_SHAPE,\n",
        "    include_top=False,\n",
        "    weights=\"imagenet\",\n",
        "    classes=2,\n",
        ")\n",
        "student_model.trainable=False\n",
        "\n",
        "# Create new model on top.\n",
        "inputs = tf.keras.Input(shape=(224, 224, 3))\n",
        "x = student_model(inputs, training=False)\n",
        "x = tf.keras.layers.GlobalAveragePooling2D(dtype='float32')(x)\n",
        "x = tf.keras.layers.Dropout(0.2)(x)\n",
        "outputs = tf.keras.layers.Dense(2)(x)\n",
        "student_model = tf.keras.Model(inputs, outputs)\n",
        "\n",
        "\n",
        "optimizer = tf.keras.optimizers.Adam(learning_rate=1e-4)\n",
        "initial_epoch = 10\n",
        "student_model.compile(optimizer=optimizer\n",
        ")"
      ],
      "metadata": {
        "id": "jUBIooankYtJ"
      },
      "execution_count": 41,
      "outputs": []
    },
    {
      "cell_type": "code",
      "source": [
        "ALPHA = 0.5\n",
        "f1_list = []\n",
        "for t in [ 2, 4, 16, 32, 64]:\n",
        "  DISTILLATION_TEMPERATURE = t\n",
        "  f1_list.append(train_and_evaluate(student_model, compute_student_loss))\n",
        ""
      ],
      "metadata": {
        "colab": {
          "base_uri": "https://localhost:8080/",
          "height": 0
        },
        "id": "sXc40U7akCEh",
        "outputId": "c84dbe76-d270-4690-f337-978917736e9c"
      },
      "execution_count": 44,
      "outputs": [
        {
          "output_type": "stream",
          "name": "stdout",
          "text": [
            "Epoch 1: Epoch 2: Epoch 3: Epoch 4: Epoch 5: Epoch 6: Epoch 7: Epoch 8: Epoch 9: Epoch 10: Epoch 11: Epoch 12: Epoch 1: Epoch 2: Epoch 3: Epoch 4: Epoch 5: Epoch 6: Epoch 7: Epoch 8: Epoch 9: Epoch 10: Epoch 11: Epoch 12: Epoch 1: Epoch 2: Epoch 3: Epoch 4: Epoch 5: Epoch 6: Epoch 7: Epoch 8: Epoch 9: Epoch 10: Epoch 11: Epoch 12: Epoch 1: Epoch 2: Epoch 3: Epoch 4: Epoch 5: Epoch 6: Epoch 7: Epoch 8: Epoch 9: Epoch 10: Epoch 11: Epoch 12: Epoch 1: Epoch 2: Epoch 3: Epoch 4: Epoch 5: Epoch 6: Epoch 7: Epoch 8: Epoch 9: Epoch 10: Epoch 11: Epoch 12: "
          ]
        }
      ]
    },
    {
      "cell_type": "code",
      "source": [
        "import math\n",
        "import matplotlib.pyplot as plt\n",
        "x_axis = [ 2, 4, 16, 32, 64]\n",
        "plt.figure(figsize=(5,5))\n",
        "plt.title(\"Test accuracy vs. tempreture curve\")\n",
        "plt.plot(x_axis,f1_list)\n",
        "#new_list = range(math.floor(min(x_axis)), math.ceil(max(x_axis))+1)\n",
        "plt.xticks(x_axis)\n",
        "plt.xlabel('Tempreture')\n",
        "plt.ylabel('F1 Score')\n",
        "plt.show()"
      ],
      "metadata": {
        "colab": {
          "base_uri": "https://localhost:8080/",
          "height": 587
        },
        "id": "NSssOQ8ci_MP",
        "outputId": "193b54d3-5b61-4d1a-94b9-b4017836968d"
      },
      "execution_count": 47,
      "outputs": [
        {
          "output_type": "display_data",
          "data": {
            "text/plain": [
              "<Figure size 500x500 with 1 Axes>"
            ],
            "image/png": "[encoded data removed]"
          },
          "metadata": {}
        }
      ]
    },
    {
      "cell_type": "markdown",
      "source": [
        "# Comparing the teacher and student model (number of of parameters and FLOPs)"
      ],
      "metadata": {
        "id": "wcUk1LLuQdWh"
      }
    },
    {
      "cell_type": "code",
      "source": [
        "###############\n",
        "#Kaintels\n",
        "#https://github.com/tensorflow/tensorflow/issues/32809\n",
        "###############\n",
        "import tensorflow as tf\n",
        "from tensorflow.python.framework.convert_to_constants import  convert_variables_to_constants_v2_as_graph\n",
        "\n",
        "def get_flops(model):\n",
        "    concrete = tf.function(lambda inputs: model(inputs))\n",
        "    concrete_func = concrete.get_concrete_function(\n",
        "        [tf.TensorSpec([1, *inputs.shape[1:]]) for inputs in model.inputs])\n",
        "    frozen_func, graph_def = convert_variables_to_constants_v2_as_graph(concrete_func)\n",
        "    with tf.Graph().as_default() as graph:\n",
        "        tf.graph_util.import_graph_def(graph_def, name='')\n",
        "        run_meta = tf.compat.v1.RunMetadata()\n",
        "        opts = tf.compat.v1.profiler.ProfileOptionBuilder.float_operation()\n",
        "        flops = tf.compat.v1.profiler.profile(graph=graph, run_meta=run_meta, cmd=\"op\", options=opts)\n",
        "        #opts = tf.compat.v1.profiler.ProfileOptionBuilder.trainable_variables_parameter()\n",
        "        #params = tf.compat.v1.profiler.profile(graph=graph, run_meta=run_meta, cmd=\"op\", options=opts)\n",
        "        return flops.total_float_ops\n"
      ],
      "metadata": {
        "id": "n94VdmLbQcnZ"
      },
      "execution_count": 75,
      "outputs": []
    },
    {
      "cell_type": "code",
      "source": [
        "model = teacher_model\n",
        "print(\"The FLOPs of Teacher model is:{}\".format(get_flops(model)) ,flush=True )\n",
        "model = student_model\n",
        "print(\"The FLOPs of Student model with KD is:{}\".format(get_flops(model)) ,flush=True )\n",
        "model = student_model_no_distillation\n",
        "print(\"The FLOPs of Student model without KD is:{}\".format(get_flops(model)) ,flush=True )"
      ],
      "metadata": {
        "colab": {
          "base_uri": "https://localhost:8080/",
          "height": 0
        },
        "id": "iiP1KFqHQgcX",
        "outputId": "49c0d6c5-eb8d-4a74-f32a-4e95f5a862ad"
      },
      "execution_count": 76,
      "outputs": [
        {
          "output_type": "stream",
          "name": "stderr",
          "text": [
            "WARNING:tensorflow:From /usr/local/lib/python3.10/dist-packages/tensorflow/python/ops/nn_ops.py:5253: tensor_shape_from_node_def_name (from tensorflow.python.framework.graph_util_impl) is deprecated and will be removed in a future version.\n",
            "Instructions for updating:\n",
            "This API was designed for TensorFlow v1. See https://www.tensorflow.org/guide/migrate for instructions on how to migrate your code to TensorFlow v2.\n"
          ]
        },
        {
          "output_type": "stream",
          "name": "stdout",
          "text": [
            "The FLOPs of Teacher model is:6973920258\n",
            "The FLOPs of Student model with KD is:599272770\n",
            "The FLOPs of Student model without KD is:599272770\n"
          ]
        }
      ]
    },
    {
      "cell_type": "code",
      "source": [
        "print('Teacher model:\\n')\n",
        "teacher_model.summary()\n",
        "print('')\n",
        "print('Student model with KD:\\n')\n",
        "student_model.summary()\n",
        "print('')\n",
        "print('Student model without KD:\\n')\n",
        "student_model_no_distillation.summary()"
      ],
      "metadata": {
        "colab": {
          "base_uri": "https://localhost:8080/",
          "height": 0
        },
        "id": "ueUEwo__QjA4",
        "outputId": "6f42c6d5-0542-4d55-85fd-9d5a65852860"
      },
      "execution_count": 77,
      "outputs": [
        {
          "output_type": "stream",
          "name": "stdout",
          "text": [
            "Teacher model:\n",
            "\n",
            "Model: \"model_28\"\n",
            "_________________________________________________________________\n",
            " Layer (type)                Output Shape              Param #   \n",
            "=================================================================\n",
            " input_58 (InputLayer)       [(None, 224, 224, 3)]     0         \n",
            "                                                                 \n",
            " resnet50v2 (Functional)     (None, 7, 7, 2048)        23564800  \n",
            "                                                                 \n",
            " global_average_pooling2d_2  (None, 2048)              0         \n",
            " 8 (GlobalAveragePooling2D)                                      \n",
            "                                                                 \n",
            " dropout_28 (Dropout)        (None, 2048)              0         \n",
            "                                                                 \n",
            " dense_28 (Dense)            (None, 2)                 4098      \n",
            "                                                                 \n",
            "=================================================================\n",
            "Total params: 23568898 (89.91 MB)\n",
            "Trainable params: 4098 (16.01 KB)\n",
            "Non-trainable params: 23564800 (89.89 MB)\n",
            "_________________________________________________________________\n",
            "\n",
            "Student model with KD:\n",
            "\n",
            "Model: \"model_29\"\n",
            "_________________________________________________________________\n",
            " Layer (type)                Output Shape              Param #   \n",
            "=================================================================\n",
            " input_60 (InputLayer)       [(None, 224, 224, 3)]     0         \n",
            "                                                                 \n",
            " mobilenetv2_1.00_224 (Func  (None, 7, 7, 1280)        2257984   \n",
            " tional)                                                         \n",
            "                                                                 \n",
            " global_average_pooling2d_2  (None, 1280)              0         \n",
            " 9 (GlobalAveragePooling2D)                                      \n",
            "                                                                 \n",
            " dropout_29 (Dropout)        (None, 1280)              0         \n",
            "                                                                 \n",
            " dense_29 (Dense)            (None, 2)                 2562      \n",
            "                                                                 \n",
            "=================================================================\n",
            "Total params: 2260546 (8.62 MB)\n",
            "Trainable params: 2562 (10.01 KB)\n",
            "Non-trainable params: 2257984 (8.61 MB)\n",
            "_________________________________________________________________\n",
            "\n",
            "Student model without KD:\n",
            "\n",
            "Model: \"model_2\"\n",
            "_________________________________________________________________\n",
            " Layer (type)                Output Shape              Param #   \n",
            "=================================================================\n",
            " input_6 (InputLayer)        [(None, 224, 224, 3)]     0         \n",
            "                                                                 \n",
            " mobilenetv2_1.00_224 (Func  (None, 7, 7, 1280)        2257984   \n",
            " tional)                                                         \n",
            "                                                                 \n",
            " global_average_pooling2d_2  (None, 1280)              0         \n",
            "  (GlobalAveragePooling2D)                                       \n",
            "                                                                 \n",
            " dropout_2 (Dropout)         (None, 1280)              0         \n",
            "                                                                 \n",
            " dense_2 (Dense)             (None, 2)                 2562      \n",
            "                                                                 \n",
            "=================================================================\n",
            "Total params: 2260546 (8.62 MB)\n",
            "Trainable params: 2562 (10.01 KB)\n",
            "Non-trainable params: 2257984 (8.61 MB)\n",
            "_________________________________________________________________\n"
          ]
        }
      ]
    },
    {
      "cell_type": "markdown",
      "source": [
        "# Implementing the state-of-the-art KD algorithm"
      ],
      "metadata": {
        "id": "OmSUCGua0FvE"
      }
    },
    {
      "cell_type": "code",
      "source": [
        "student_model = tf.keras.applications.MobileNetV2(\n",
        "    input_shape=IMAGE_SHAPE,\n",
        "    include_top=False,\n",
        "    weights=\"imagenet\",\n",
        "    classes=2,\n",
        ")\n",
        "student_model.trainable=False\n",
        "\n",
        "# Create new model on top.\n",
        "inputs = tf.keras.Input(shape=(224, 224, 3))\n",
        "x = student_model(inputs, training=False)\n",
        "x = tf.keras.layers.GlobalAveragePooling2D(dtype='float32')(x)\n",
        "x = tf.keras.layers.Dropout(0.2)(x)\n",
        "outputs = tf.keras.layers.Dense(2)(x)\n",
        "student_model = tf.keras.Model(inputs, outputs)\n",
        "\n",
        "\n",
        "optimizer = tf.keras.optimizers.Adam(learning_rate=1e-4)\n",
        "initial_epoch = 10\n",
        "student_model.compile(optimizer=optimizer\n",
        ")"
      ],
      "metadata": {
        "id": "_LqZT7gm0XXB"
      },
      "execution_count": 49,
      "outputs": []
    },
    {
      "cell_type": "code",
      "source": [
        "\n",
        "teacher_model = tf.keras.applications.ResNet50V2(\n",
        "  include_top=False,\n",
        "  weights='imagenet',\n",
        "  classes=2,\n",
        "  input_shape=IMAGE_SHAPE\n",
        "  )\n",
        "teacher_model.trainable=False\n",
        "\n",
        "# Create new model on top.\n",
        "inputs = tf.keras.Input(shape=(224, 224, 3))\n",
        "x = teacher_model(inputs, training=False)\n",
        "x = tf.keras.layers.GlobalAveragePooling2D(dtype='float32')(x)\n",
        "x = tf.keras.layers.Dropout(0.2)(x)\n",
        "outputs = tf.keras.layers.Dense(2)(x)\n",
        "teacher_model = tf.keras.Model(inputs, outputs)\n",
        "optimizer = tf.keras.optimizers.Adam(learning_rate=1e-4)\n",
        "initial_epoch = 10\n",
        "teacher_model.compile(optimizer=optimizer)\n",
        "\n"
      ],
      "metadata": {
        "id": "IG4MbjlG05L4"
      },
      "execution_count": 67,
      "outputs": []
    },
    {
      "cell_type": "code",
      "source": [
        "#teacher_model = create_teacher()\n",
        "#student_model = create_student()\n",
        "DISTILLATION_TEMPERATURE = 4\n",
        "techer_acc_list = []\n",
        "student_acc_list = []\n",
        "epoch_list = [2,4,8,12,24]\n",
        "for epoch in epoch_list:\n",
        "  NUM_EPOCHS = epoch\n",
        "  #teacher_model = create_teacher()\n",
        "  teacher_model = tf.keras.applications.ResNet50V2(\n",
        "  include_top=False,\n",
        "  weights='imagenet',\n",
        "  classes=2,\n",
        "  input_shape=IMAGE_SHAPE\n",
        "  )\n",
        "  teacher_model.trainable=False\n",
        "\n",
        "# Create new model on top.\n",
        "  inputs = tf.keras.Input(shape=(224, 224, 3))\n",
        "  x = teacher_model(inputs, training=False)\n",
        "  x = tf.keras.layers.GlobalAveragePooling2D(dtype='float32')(x)\n",
        "  x = tf.keras.layers.Dropout(0.2)(x)\n",
        "  outputs = tf.keras.layers.Dense(2)(x)\n",
        "  teacher_model = tf.keras.Model(inputs, outputs)\n",
        "  optimizer = tf.keras.optimizers.Adam(learning_rate=1e-4)\n",
        "  initial_epoch = 10\n",
        "  teacher_model.compile(optimizer=optimizer)\n",
        "\n",
        "  techer_acc_list.append(train_and_evaluate(teacher_model,compute_teacher_loss))\n",
        "  NUM_EPOCHS = 12\n",
        "\n",
        "  student_model = tf.keras.applications.MobileNetV2(\n",
        "    input_shape=IMAGE_SHAPE,\n",
        "    include_top=False,\n",
        "    weights=\"imagenet\",\n",
        "    classes=2,\n",
        "  )\n",
        "  student_model.trainable=False\n",
        "\n",
        "# Create new model on top.\n",
        "  inputs = tf.keras.Input(shape=(224, 224, 3))\n",
        "  x = student_model(inputs, training=False)\n",
        "  x = tf.keras.layers.GlobalAveragePooling2D(dtype='float32')(x)\n",
        "  x = tf.keras.layers.Dropout(0.2)(x)\n",
        "  outputs = tf.keras.layers.Dense(2)(x)\n",
        "  student_model = tf.keras.Model(inputs, outputs)\n",
        "\n",
        "\n",
        "  optimizer = tf.keras.optimizers.Adam(learning_rate=1e-4)\n",
        "  initial_epoch = 10\n",
        "  student_model.compile(optimizer=optimizer\n",
        "  )\n",
        "\n",
        "  student_acc_list.append(train_and_evaluate(student_model, compute_student_loss))\n",
        "  #train_and_evaluate(fc_model, compute_student_loss)\n"
      ],
      "metadata": {
        "colab": {
          "base_uri": "https://localhost:8080/",
          "height": 0
        },
        "id": "PIR41cV1z3sp",
        "outputId": "95069bd4-0103-4f68-8457-a6c6f51d1c96"
      },
      "execution_count": 69,
      "outputs": [
        {
          "output_type": "stream",
          "name": "stdout",
          "text": [
            "Epoch 1: Epoch 2: Epoch 1: Epoch 2: Epoch 3: Epoch 4: Epoch 5: Epoch 6: Epoch 7: Epoch 8: Epoch 9: Epoch 10: Epoch 11: Epoch 12: Epoch 1: Epoch 2: Epoch 3: Epoch 4: Epoch 1: Epoch 2: Epoch 3: Epoch 4: Epoch 5: Epoch 6: Epoch 7: Epoch 8: Epoch 9: Epoch 10: Epoch 11: Epoch 12: Epoch 1: Epoch 2: Epoch 3: Epoch 4: Epoch 5: Epoch 6: Epoch 7: Epoch 8: Epoch 1: Epoch 2: Epoch 3: Epoch 4: Epoch 5: Epoch 6: Epoch 7: Epoch 8: Epoch 9: Epoch 10: Epoch 11: Epoch 12: Epoch 1: Epoch 2: Epoch 3: Epoch 4: Epoch 5: Epoch 6: Epoch 7: Epoch 8: Epoch 9: Epoch 10: Epoch 11: Epoch 12: Epoch 1: Epoch 2: Epoch 3: Epoch 4: Epoch 5: Epoch 6: Epoch 7: Epoch 8: Epoch 9: Epoch 10: Epoch 11: Epoch 12: Epoch 1: Epoch 2: Epoch 3: Epoch 4: Epoch 5: Epoch 6: Epoch 7: Epoch 8: Epoch 9: Epoch 10: Epoch 11: Epoch 12: Epoch 13: Epoch 14: Epoch 15: Epoch 16: Epoch 17: Epoch 18: Epoch 19: Epoch 20: Epoch 21: Epoch 22: Epoch 23: Epoch 24: Epoch 1: Epoch 2: Epoch 3: Epoch 4: Epoch 5: Epoch 6: Epoch 7: Epoch 8: Epoch 9: Epoch 10: Epoch 11: Epoch 12: "
          ]
        }
      ]
    },
    {
      "cell_type": "code",
      "source": [
        "import math\n",
        "import matplotlib.pyplot as plt\n",
        "plt.figure(figsize=(5,5))\n",
        "plt.title(\"F1 Score vs. number of epoches\")\n",
        "#plt.plot(epoch_list,techer_acc_list,label = 'Teacher')\n",
        "plt.plot(epoch_list,student_acc_list,label = 'Student')\n",
        "#new_list = range(math.floor(min(x_axis)), math.ceil(max(x_axis))+1)\n",
        "plt.xticks(epoch_list)\n",
        "plt.xlabel('Number of epoches')\n",
        "plt.ylabel('F1 Score')\n",
        "plt.legend()\n",
        "plt.show()"
      ],
      "metadata": {
        "colab": {
          "base_uri": "https://localhost:8080/",
          "height": 587
        },
        "id": "W_T82sQS0AdR",
        "outputId": "59a9fb61-67d5-4114-cc29-2b0e46e98bfa"
      },
      "execution_count": 74,
      "outputs": [
        {
          "output_type": "display_data",
          "data": {
            "text/plain": [
              "<Figure size 500x500 with 1 Axes>"
            ],
            "image/png": "[encoded data removed]"
          },
          "metadata": {}
        }
      ]
    }
  ],
  "metadata": {
    "accelerator": "GPU",
    "colab": {
      "provenance": []
    },
    "kernelspec": {
      "display_name": "Python 3",
      "name": "python3"
    },
    "language_info": {
      "name": "python"
    }
  },
  "nbformat": 4,
  "nbformat_minor": 0
}